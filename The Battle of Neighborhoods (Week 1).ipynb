{
 "cells": [
  {
   "cell_type": "code",
   "execution_count": 1,
   "metadata": {},
   "outputs": [],
   "source": [
    "import numpy as np \n",
    "import time\n",
    "import pandas as pd\n",
    "\n",
    "import json \n",
    "import requests \n",
    "from pandas.io.json import json_normalize\n",
    "\n",
    "from geopy.geocoders import Nominatim\n",
    "import folium \n",
    "import matplotlib.cm as cm\n",
    "import matplotlib.colors as colors\n",
    "\n",
    "import seaborn as sns\n",
    "from sklearn.cluster import KMeans\n"
   ]
  },
  {
   "cell_type": "markdown",
   "metadata": {},
   "source": [
    "# Week-1"
   ]
  },
  {
   "cell_type": "markdown",
   "metadata": {},
   "source": [
    "## Section-1 : Background"
   ]
  },
  {
   "cell_type": "markdown",
   "metadata": {},
   "source": [
    "I am a Data Scientist working in the West Side of City of Toronto living in a nice neighbourhood with all the great amenities and other types of venues that exist in the neighborhood, such as gourmet fast food joints, pharmacies, parks, grad schools and so on. Now, say you receive a job offer from a great company on the other side of the city with great career prospects. \n",
    "\n",
    "Recently I got a job on the other end of the city and since the company is a bit far away. Given the far distance from your current place you unfortunately must move if you decide to accept the offer. Wouldn't it be great if you're able to determine neighborhoods on the other side of the city that are exactly the same as your current neighborhood, and if not perhaps similar neighborhoods that are at least closer to your new job? "
   ]
  },
  {
   "cell_type": "markdown",
   "metadata": {},
   "source": [
    "## Section-2 : Problem "
   ]
  },
  {
   "cell_type": "markdown",
   "metadata": {},
   "source": [
    "The problem here is to identify a new neighbourhood where we can move which would be closer to the new workplace and allows us with all the great ammenities like gourmet fast food joints, pharmacies, parks, grad schools, etc. we had, while we move to the new place. The same methodology can be applied in accordance to demands as applicable. This case is also applicable for anyone interested in exploring starting or locating a new business in any city. Lastly, it can also serve as a good practical exercise to develop Data Science skills}"
   ]
  },
  {
   "cell_type": "markdown",
   "metadata": {},
   "source": [
    "## Section-3 : Data Description"
   ]
  },
  {
   "cell_type": "markdown",
   "metadata": {},
   "source": [
    "### Description of Data"
   ]
  },
  {
   "cell_type": "markdown",
   "metadata": {},
   "source": [
    "We have the following Data which we could utilize to identify the neighbourhood: \n",
    "    1. List of Postal Codes, Boroughs, Neighbourhoods with their geodata(Latitude and Longitude)\n",
    "    2. Venue for each of the restaurant and other places in a neighbourhood\n",
    "    3. Tips and Photos of the place. \n",
    "    4. Different attributes for venues according to the needs"
   ]
  },
  {
   "cell_type": "markdown",
   "metadata": {},
   "source": [
    "### How Would Data Solve the Problem?\n"
   ]
  },
  {
   "cell_type": "markdown",
   "metadata": {},
   "source": [
    "Use Foursquare and geopy data to map venues for all Toronto neighborhoods and clustered in groups ( as per Course LAB)\n",
    "\n",
    ". Use foursquare and geopy data to map the location of Food joints, pharmacies and parks, etc. separately and on top of the above clustered map in order to be able to identify the venues and amenities near each neighbourhood, or explore each subway location separately\n",
    "\n",
    ". Use Foursquare and geopy data to map the location of neighbourhood, in some form.\n",
    "\n",
    ". create a map that depicts, for instance, nearby places around a radius of 1.0 mile (1.6 km) around each neighbourhood.\n",
    "\n",
    ". Addresses from neighbourhoods will be converted to geodata( lat, long) using Geopy-distance and Nominatime.\n",
    "\n",
    ". Data will be searched in open data sources if available, from real estate sites if open to reading."
   ]
  },
  {
   "cell_type": "code",
   "execution_count": null,
   "metadata": {},
   "outputs": [],
   "source": []
  }
 ],
 "metadata": {
  "kernelspec": {
   "display_name": "Python 3.6",
   "language": "python",
   "name": "python3"
  },
  "language_info": {
   "codemirror_mode": {
    "name": "ipython",
    "version": 3
   },
   "file_extension": ".py",
   "mimetype": "text/x-python",
   "name": "python",
   "nbconvert_exporter": "python",
   "pygments_lexer": "ipython3",
   "version": "3.6.9"
  }
 },
 "nbformat": 4,
 "nbformat_minor": 1
}
